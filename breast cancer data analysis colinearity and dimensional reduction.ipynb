{
 "cells": [
  {
   "cell_type": "markdown",
   "metadata": {},
   "source": [
    "## Breast cancer data analysis:  collinearity and dimensional reduction"
   ]
  },
  {
   "cell_type": "markdown",
   "metadata": {},
   "source": [
    "Data source: Kaggle (https://www.kaggle.com/uciml/breast-cancer-wisconsin-data).\n",
    "Also can be found on UCI Machine Learning Repository: https://archive.ics.uci.edu/ml/datasets/Breast+Cancer+Wisconsin+%28Diagnostic%29\n",
    "\n",
    "Attribute Information:\n",
    "\n",
    "1) ID number \n",
    "2) Diagnosis (M = malignant, B = benign) 3-32)\n",
    "\n",
    "Ten real-valued features are computed for each cell nucleus:\n",
    "\n",
    "a) radius (mean of distances from center to points on the perimeter) b) texture (standard deviation of gray-scale values) c) perimeter d) area e) smoothness (local variation in radius lengths) f) compactness (perimeter^2 / area - 1.0) g) concavity (severity of concave portions of the contour) h) concave points (number of concave portions of the contour) i) symmetry j) fractal dimension (\"coastline approximation\" - 1)\n",
    "\n",
    "The mean, standard error and \"worst\" or largest (mean of the three largest values) of these features were computed for each image, resulting in 30 features. \n",
    "* In this blog, analyses of collinearity and dimensional reduction are discussed.\n"
   ]
  },
  {
   "cell_type": "code",
   "execution_count": 8,
   "metadata": {
    "collapsed": true
   },
   "outputs": [],
   "source": [
    "import pandas as pd\n",
    "import numpy as np\n",
    "import seaborn as sns\n",
    "import seaborn as sns\n",
    "import matplotlib.pyplot as plt"
   ]
  },
  {
   "cell_type": "code",
   "execution_count": 12,
   "metadata": {
    "collapsed": false
   },
   "outputs": [
    {
     "name": "stdout",
     "output_type": "stream",
     "text": [
      "569\n"
     ]
    }
   ],
   "source": [
    "# First, we import the downloaded cvs data \n",
    "bc=pd.read_csv(\"C:\\data science\\project1\\BC.csv\")\n",
    "bc.head(10)     \n",
    "#print(bc.describe())\n",
    "print(np.count_nonzero(bc.diagnosis[]))"
   ]
  },
  {
   "cell_type": "code",
   "execution_count": 4,
   "metadata": {
    "collapsed": false,
    "scrolled": false
   },
   "outputs": [
    {
     "name": "stdout",
     "output_type": "stream",
     "text": [
      "<class 'pandas.core.frame.DataFrame'>\n"
     ]
    },
    {
     "data": {
      "text/html": [
       "<div>\n",
       "<table border=\"1\" class=\"dataframe\">\n",
       "  <thead>\n",
       "    <tr style=\"text-align: right;\">\n",
       "      <th></th>\n",
       "      <th>radius_mean</th>\n",
       "      <th>texture_mean</th>\n",
       "      <th>perimeter_mean</th>\n",
       "      <th>area_mean</th>\n",
       "      <th>smoothness_mean</th>\n",
       "      <th>compactness_mean</th>\n",
       "      <th>concavity_mean</th>\n",
       "      <th>concave points_mean</th>\n",
       "      <th>symmetry_mean</th>\n",
       "      <th>fractal_dimension_mean</th>\n",
       "      <th>...</th>\n",
       "      <th>radius_worst</th>\n",
       "      <th>texture_worst</th>\n",
       "      <th>perimeter_worst</th>\n",
       "      <th>area_worst</th>\n",
       "      <th>smoothness_worst</th>\n",
       "      <th>compactness_worst</th>\n",
       "      <th>concavity_worst</th>\n",
       "      <th>concave points_worst</th>\n",
       "      <th>symmetry_worst</th>\n",
       "      <th>fractal_dimension_worst</th>\n",
       "    </tr>\n",
       "  </thead>\n",
       "  <tbody>\n",
       "    <tr>\n",
       "      <th>0</th>\n",
       "      <td>17.99</td>\n",
       "      <td>10.38</td>\n",
       "      <td>122.80</td>\n",
       "      <td>1001.0</td>\n",
       "      <td>0.11840</td>\n",
       "      <td>0.27760</td>\n",
       "      <td>0.3001</td>\n",
       "      <td>0.14710</td>\n",
       "      <td>0.2419</td>\n",
       "      <td>0.07871</td>\n",
       "      <td>...</td>\n",
       "      <td>25.38</td>\n",
       "      <td>17.33</td>\n",
       "      <td>184.60</td>\n",
       "      <td>2019.0</td>\n",
       "      <td>0.1622</td>\n",
       "      <td>0.6656</td>\n",
       "      <td>0.7119</td>\n",
       "      <td>0.2654</td>\n",
       "      <td>0.4601</td>\n",
       "      <td>0.11890</td>\n",
       "    </tr>\n",
       "    <tr>\n",
       "      <th>1</th>\n",
       "      <td>20.57</td>\n",
       "      <td>17.77</td>\n",
       "      <td>132.90</td>\n",
       "      <td>1326.0</td>\n",
       "      <td>0.08474</td>\n",
       "      <td>0.07864</td>\n",
       "      <td>0.0869</td>\n",
       "      <td>0.07017</td>\n",
       "      <td>0.1812</td>\n",
       "      <td>0.05667</td>\n",
       "      <td>...</td>\n",
       "      <td>24.99</td>\n",
       "      <td>23.41</td>\n",
       "      <td>158.80</td>\n",
       "      <td>1956.0</td>\n",
       "      <td>0.1238</td>\n",
       "      <td>0.1866</td>\n",
       "      <td>0.2416</td>\n",
       "      <td>0.1860</td>\n",
       "      <td>0.2750</td>\n",
       "      <td>0.08902</td>\n",
       "    </tr>\n",
       "    <tr>\n",
       "      <th>2</th>\n",
       "      <td>19.69</td>\n",
       "      <td>21.25</td>\n",
       "      <td>130.00</td>\n",
       "      <td>1203.0</td>\n",
       "      <td>0.10960</td>\n",
       "      <td>0.15990</td>\n",
       "      <td>0.1974</td>\n",
       "      <td>0.12790</td>\n",
       "      <td>0.2069</td>\n",
       "      <td>0.05999</td>\n",
       "      <td>...</td>\n",
       "      <td>23.57</td>\n",
       "      <td>25.53</td>\n",
       "      <td>152.50</td>\n",
       "      <td>1709.0</td>\n",
       "      <td>0.1444</td>\n",
       "      <td>0.4245</td>\n",
       "      <td>0.4504</td>\n",
       "      <td>0.2430</td>\n",
       "      <td>0.3613</td>\n",
       "      <td>0.08758</td>\n",
       "    </tr>\n",
       "    <tr>\n",
       "      <th>3</th>\n",
       "      <td>11.42</td>\n",
       "      <td>20.38</td>\n",
       "      <td>77.58</td>\n",
       "      <td>386.1</td>\n",
       "      <td>0.14250</td>\n",
       "      <td>0.28390</td>\n",
       "      <td>0.2414</td>\n",
       "      <td>0.10520</td>\n",
       "      <td>0.2597</td>\n",
       "      <td>0.09744</td>\n",
       "      <td>...</td>\n",
       "      <td>14.91</td>\n",
       "      <td>26.50</td>\n",
       "      <td>98.87</td>\n",
       "      <td>567.7</td>\n",
       "      <td>0.2098</td>\n",
       "      <td>0.8663</td>\n",
       "      <td>0.6869</td>\n",
       "      <td>0.2575</td>\n",
       "      <td>0.6638</td>\n",
       "      <td>0.17300</td>\n",
       "    </tr>\n",
       "    <tr>\n",
       "      <th>4</th>\n",
       "      <td>20.29</td>\n",
       "      <td>14.34</td>\n",
       "      <td>135.10</td>\n",
       "      <td>1297.0</td>\n",
       "      <td>0.10030</td>\n",
       "      <td>0.13280</td>\n",
       "      <td>0.1980</td>\n",
       "      <td>0.10430</td>\n",
       "      <td>0.1809</td>\n",
       "      <td>0.05883</td>\n",
       "      <td>...</td>\n",
       "      <td>22.54</td>\n",
       "      <td>16.67</td>\n",
       "      <td>152.20</td>\n",
       "      <td>1575.0</td>\n",
       "      <td>0.1374</td>\n",
       "      <td>0.2050</td>\n",
       "      <td>0.4000</td>\n",
       "      <td>0.1625</td>\n",
       "      <td>0.2364</td>\n",
       "      <td>0.07678</td>\n",
       "    </tr>\n",
       "  </tbody>\n",
       "</table>\n",
       "<p>5 rows × 30 columns</p>\n",
       "</div>"
      ],
      "text/plain": [
       "   radius_mean  texture_mean  perimeter_mean  area_mean  smoothness_mean  \\\n",
       "0        17.99         10.38          122.80     1001.0          0.11840   \n",
       "1        20.57         17.77          132.90     1326.0          0.08474   \n",
       "2        19.69         21.25          130.00     1203.0          0.10960   \n",
       "3        11.42         20.38           77.58      386.1          0.14250   \n",
       "4        20.29         14.34          135.10     1297.0          0.10030   \n",
       "\n",
       "   compactness_mean  concavity_mean  concave points_mean  symmetry_mean  \\\n",
       "0           0.27760          0.3001              0.14710         0.2419   \n",
       "1           0.07864          0.0869              0.07017         0.1812   \n",
       "2           0.15990          0.1974              0.12790         0.2069   \n",
       "3           0.28390          0.2414              0.10520         0.2597   \n",
       "4           0.13280          0.1980              0.10430         0.1809   \n",
       "\n",
       "   fractal_dimension_mean           ...             radius_worst  \\\n",
       "0                 0.07871           ...                    25.38   \n",
       "1                 0.05667           ...                    24.99   \n",
       "2                 0.05999           ...                    23.57   \n",
       "3                 0.09744           ...                    14.91   \n",
       "4                 0.05883           ...                    22.54   \n",
       "\n",
       "   texture_worst  perimeter_worst  area_worst  smoothness_worst  \\\n",
       "0          17.33           184.60      2019.0            0.1622   \n",
       "1          23.41           158.80      1956.0            0.1238   \n",
       "2          25.53           152.50      1709.0            0.1444   \n",
       "3          26.50            98.87       567.7            0.2098   \n",
       "4          16.67           152.20      1575.0            0.1374   \n",
       "\n",
       "   compactness_worst  concavity_worst  concave points_worst  symmetry_worst  \\\n",
       "0             0.6656           0.7119                0.2654          0.4601   \n",
       "1             0.1866           0.2416                0.1860          0.2750   \n",
       "2             0.4245           0.4504                0.2430          0.3613   \n",
       "3             0.8663           0.6869                0.2575          0.6638   \n",
       "4             0.2050           0.4000                0.1625          0.2364   \n",
       "\n",
       "   fractal_dimension_worst  \n",
       "0                  0.11890  \n",
       "1                  0.08902  \n",
       "2                  0.08758  \n",
       "3                  0.17300  \n",
       "4                  0.07678  \n",
       "\n",
       "[5 rows x 30 columns]"
      ]
     },
     "execution_count": 4,
     "metadata": {},
     "output_type": "execute_result"
    }
   ],
   "source": [
    "# slicing out the predictor variables/features\n",
    "X=bc.iloc[:,2:32]\n",
    "print(type(X))\n",
    "# displaying the first five rows of X\n",
    "X.head()"
   ]
  },
  {
   "cell_type": "code",
   "execution_count": 5,
   "metadata": {
    "collapsed": false,
    "scrolled": true
   },
   "outputs": [
    {
     "name": "stdout",
     "output_type": "stream",
     "text": [
      "<class 'pandas.core.series.Series'>\n",
      "   B  M\n",
      "0  0  1\n",
      "1  0  1\n",
      "2  0  1\n",
      "3  0  1\n",
      "4  0  1\n"
     ]
    },
    {
     "data": {
      "text/plain": [
       "0    1\n",
       "1    1\n",
       "2    1\n",
       "3    1\n",
       "4    1\n",
       "Name: M, dtype: uint8"
      ]
     },
     "execution_count": 5,
     "metadata": {},
     "output_type": "execute_result"
    }
   ],
   "source": [
    "# response variable: 'diagnosis'\n",
    "yr=bc.diagnosis\n",
    "print(type(yr))\n",
    "yr.head()\n",
    "# we use pandas get_dummies function to convert the qualitative values in yr to quantitative \n",
    "yd=pd.get_dummies(yr) # this creates two columns: one for B and another for M\n",
    "print(yd.head())\n",
    "# take the yd.M as the response variable (y) since it assigns 1 for M and 0 for B\n",
    "# this makes sense as we are interested more in predicting M cases than B\n",
    "y=yd.M \n",
    "y.head()"
   ]
  },
  {
   "cell_type": "markdown",
   "metadata": {},
   "source": [
    "### 1.  Identifying Collinearity\n",
    "* Now, looking at the covariance matrix of the features, we can identify variables with more than 85% correlation \n",
    "(85% selected as a threshold here, but other values can be used as well)"
   ]
  },
  {
   "cell_type": "code",
   "execution_count": 209,
   "metadata": {
    "collapsed": false,
    "scrolled": true
   },
   "outputs": [
    {
     "data": {
      "text/plain": [
       "<matplotlib.axes._subplots.AxesSubplot at 0xb2205b0>"
      ]
     },
     "execution_count": 209,
     "metadata": {},
     "output_type": "execute_result"
    },
    {
     "data": {
      "image/png": "[encoded data removed]",
      "text/plain": [
       "<matplotlib.figure.Figure at 0xbcb2c30>"
      ]
     },
     "metadata": {},
     "output_type": "display_data"
    }
   ],
   "source": [
    "cor=np.corrcoef(X.T)\n",
    "type(cor)\n",
    "%matplotlib inline\n",
    "plt.figure(figsize=(10, 8))\n",
    "sns.heatmap(cor, vmin=0.85,vmax=1,\\\n",
    "            cmap=plt.cm.Spectral_r)\n",
    "#cmap='coolwarm'#"
   ]
  },
  {
   "cell_type": "markdown",
   "metadata": {},
   "source": [
    "*From the above plot, we can see the following features are highly correlated:*\n",
    "* feature 0,2,3, 20, 22, 23 (radius, area, perimeter),this makes sense since area and perimeter are computed from radius. We keep 0 (mean radius) and 20 (worst radius), and discard the rest.\n",
    "* feature 10, 12, 13 are  highly correlated to eachother. Keeping feature 10, we can leave the rest out. "
   ]
  },
  {
   "cell_type": "markdown",
   "metadata": {},
   "source": [
    "**Summary:**\n",
    "* covariance matrix can only detect one-to-one collinearity leaving the issue of multi-collinearity\n",
    "* High multi-collinearity can be detected by inspecting the eigen values of correlation matrix. A very low eigen value shows that the data are collinear, and the corresponding eigen vector shows which variables are collinear.\n",
    "* If there is no collinearity in the data, you would expect that none of the eigen values are close to zero"
   ]
  },
  {
   "cell_type": "markdown",
   "metadata": {},
   "source": [
    "### 2. Dimensional reduction using Principal Component Analysis (PCA)\n",
    "\n",
    "* PCA is a technique that extracts a smaller but valuable set of predictors by linear combination of the original *p* predictors (x1,x2,x3,...,xp) in a dataset. The new set of predictors captures as much information as possible usually 95% or more of the variance in the original data.  \n",
    "* The new predictors can be written as: \n",
    "    * PC1 = Φ¹¹X¹ + Φ²¹X² + Φ³¹X³ + .... +Φp¹Xp\n",
    "    * PC2 = Φ¹²X¹ + Φ²²X² + Φ³²X³ + .... + Φp2Xp\n",
    "    ...\n",
    "    * Φp¹, and Φp2 are the loading vectors of the first and the second  principal components,respectively. \n",
    "* In this blog, we apply PCA to the original data, and differnet versions of it and try to understand how results from PCA vary.\n",
    "** Data to be used: raw/original data, scaled or standardized data, and scaled data with the removal of collinear predictors."
   ]
  },
  {
   "cell_type": "markdown",
   "metadata": {},
   "source": [
    "#### 2.1. PCA on original data\n"
   ]
  },
  {
   "cell_type": "code",
   "execution_count": 184,
   "metadata": {
    "collapsed": false,
    "scrolled": true
   },
   "outputs": [
    {
     "name": "stdout",
     "output_type": "stream",
     "text": [
      "(569, 10)\n",
      "[  9.82044672e-01   1.61764899e-02   1.55751075e-03   1.20931964e-04\n",
      "   8.82724536e-05   6.64883951e-06   4.01713682e-06   8.22017197e-07\n",
      "   3.44135279e-07   1.86018721e-07]\n",
      "0.999999894684\n"
     ]
    }
   ],
   "source": [
    "from sklearn.decomposition import PCA\n",
    "pca=PCA(n_components=10)\n",
    "x_pca=pca.fit_transform(X)\n",
    "print (x_pca.shape)\n",
    "print(pca.explained_variance_ratio_) \n",
    "print (pca.explained_variance_ratio_.sum())\n",
    "loadings = pca.components_"
   ]
  },
  {
   "cell_type": "markdown",
   "metadata": {},
   "source": [
    "* The above result shows more than 95% of the variance in the data can be expressed just by the first component. This happens in cases where there is high collinearity; the presence of collinearity can cause the PCA to overemphasize the contribution of the variance from the highly correlated (or redundant) varibles and gives less weight to the variables to the uncorrelated variables. This ultimately influence modeling/prediction results if such data is used. \n",
    "\n",
    "* It is also important to note that **we used PCA on unscaled data**. When the data is not scaled, PCA might  give us a result where only one component explains almost all the variance in the data.  "
   ]
  },
  {
   "cell_type": "markdown",
   "metadata": {},
   "source": [
    "#### 2.2. PCA on scaled/standardized data\n",
    "* Standardizing transforms the data to a data with zero mean and a standard deviation of one (unit variance).\n",
    "* In cases where the original predictors may have different scales, it is obvious the resulting variances in these predictors will be large. Therefore, performing PCA on unstandardized predictors will result a biased result; PCA assigns large loadings on the predictors with high variances."
   ]
  },
  {
   "cell_type": "code",
   "execution_count": 186,
   "metadata": {
    "collapsed": false
   },
   "outputs": [],
   "source": [
    "from sklearn.preprocessing import StandardScaler\n",
    "scaler = StandardScaler()\n",
    "X_scaled=scaler.fit_transform(X)"
   ]
  },
  {
   "cell_type": "code",
   "execution_count": 187,
   "metadata": {
    "collapsed": false
   },
   "outputs": [
    {
     "name": "stdout",
     "output_type": "stream",
     "text": [
      "(569, 10)\n",
      "[ 0.44272026  0.18971182  0.09393163  0.06602135  0.05495768  0.04024522\n",
      "  0.02250734  0.01588724  0.01389649  0.01168978]\n",
      "0.951568814337\n"
     ]
    }
   ],
   "source": [
    "pca=PCA(n_components=0.95)\n",
    "x_pca=pca.fit_transform(X_scaled)\n",
    "print (x_pca.shape)\n",
    "print(pca.explained_variance_ratio_) \n",
    "print (pca.explained_variance_ratio_.sum())\n",
    "loadings = pca.components_"
   ]
  },
  {
   "cell_type": "raw",
   "metadata": {},
   "source": [
    "* Here, it can be noted, 10 components explain 95% of the variance in the data compared to just 1 when applying PCA on the unscaled data. By using the scaled data PCA projects more features/variables which are crucial to breast cancer prediction. \n",
    "* From this, we can conclude that PCA with out scaling can hide features with smaller magnitude which are usable to the prediction. \n",
    "* We can further see how removing collinear features from the scaled can affect PCA here below."
   ]
  },
  {
   "cell_type": "markdown",
   "metadata": {},
   "source": [
    "#### 2.3. PCA after removing collinear variables\n",
    "* Here, PCA is applied on the saled data after removing some of the collinear features as identified in section 1.  We aim to see how removing redundant/colinear variables can improve PCA results."
   ]
  },
  {
   "cell_type": "code",
   "execution_count": 193,
   "metadata": {
    "collapsed": false,
    "scrolled": false
   },
   "outputs": [
    {
     "name": "stdout",
     "output_type": "stream",
     "text": [
      "(569, 11)\n",
      "[ 0.42661046  0.15932139  0.10294428  0.07788731  0.06489774  0.05015242\n",
      "  0.02145044  0.0187846   0.01505759  0.01197751  0.01117206]\n",
      "0.960255820189\n"
     ]
    }
   ],
   "source": [
    "# Remove area, perimeter,perimeter_worst, area_worst, perimeter_se, area_se  ( columns: 2,3,12,13,22,23,) from the original data: \n",
    "X_scaled=pd.DataFrame(X_scaled)\n",
    "xx=X_scaled.drop(X_scaled.columns[[2, 3, 22, 23, 12, 13]], axis=1) \n",
    "pca=PCA(n_components=0.95)\n",
    "x_pca=pca.fit_transform(xx)\n",
    "print (x_pca.shape)\n",
    "print(pca.explained_variance_ratio_) \n",
    "print (pca.explained_variance_ratio_.sum())\n",
    "loadings = pca.components_"
   ]
  },
  {
   "cell_type": "markdown",
   "metadata": {},
   "source": [
    "##### Variance plots"
   ]
  },
  {
   "cell_type": "code",
   "execution_count": 190,
   "metadata": {
    "collapsed": false,
    "scrolled": true
   },
   "outputs": [
    {
     "data": {
      "text/plain": [
       "<matplotlib.text.Text at 0xbd57ad0>"
      ]
     },
     "execution_count": 190,
     "metadata": {},
     "output_type": "execute_result"
    },
    {
     "data": {
      "image/png": "[encoded data removed]",
      "text/plain": [
       "<matplotlib.figure.Figure at 0xe379d90>"
      ]
     },
     "metadata": {},
     "output_type": "display_data"
    }
   ],
   "source": [
    "import matplotlib.pyplot as plt\n",
    "\n",
    "n=['PC1','PC2','PC3','PC4','PC5','PC6','PC7','PC8','PC9','PC10']\n",
    "index = np.arange (10)\n",
    "\n",
    "var_1=np.array([9.82044672e-01,1.61764899e-02,1.55751075e-03,1.20931964e-04,8.82724536e-05,6.64883951e-06,4.01713682e-06,8.22017197e-07,3.44135279e-07,1.86018721e-07])                \n",
    "var_sc=np.array([0.44272026,0.18971182,0.09393163,0.06602135,0.05495768,0.04024522,0.02250734,0.01588724,0.01389649,0.01168978])\n",
    "var_sc_coll=np.array([0.42661046,0.15932139,0.10294428,0.07788731,0.06489774,0.05015242,0.02145044,0.0187846,0.01505759,0.01197751])\n",
    "var=np.vstack([var_1,var_sc,var_sc_coll]).T\n",
    "\n",
    "# creating pandas datframe from numpy array 'var'\n",
    "df=pd.DataFrame(var,index=n,columns=['original','scaled','scaled_no_colli'])\n",
    "\n",
    "# plotting variance data \n",
    "%matplotlib inline\n",
    "fig, ax= plt.subplots(1,3,sharey=True,figsize=(20,4))\n",
    "r1 = ax[0].bar(index,df['original'],width = 0.6,align='center')\n",
    "ax[0].set_title('PCA on raw data',fontsize=14)\n",
    "\n",
    "r2 = ax[1].bar(index,df['scaled'],width = 0.6,align='center')\n",
    "ax[1].set_title('PCA on scaled data',fontsize=14)\n",
    "\n",
    "r3 = ax[2].bar(index,df['scaled_no_colli'],width= 0.6,align='center')\n",
    "#ax[2].set_xticklabels(n)\n",
    "ax[2].set_title('PCA after removing collinearity',fontsize=14)"
   ]
  },
  {
   "cell_type": "markdown",
   "metadata": {},
   "source": [
    "**Summary:**\n",
    "\n",
    "* By stanrdizing the data, PCA performance has improved quite well in capturing variance of the raw data\n",
    "* Removing collinear features allowed the variance from other variables which were previously ignored to be captured by PCA. "
   ]
  },
  {
   "cell_type": "markdown",
   "metadata": {},
   "source": [
    "#### Ploting first and second principal components against diagnosis\n",
    "* First principal component (PC1) is a linear combination of the features/variables which represents the maximum variance in the data set. \n",
    "* Second principal component (PC2) is also a linear combination of the features/variables which represents the remaining variance in the data set and is uncorrelated with the first principal component (PC1)."
   ]
  },
  {
   "cell_type": "code",
   "execution_count": 201,
   "metadata": {
    "collapsed": false,
    "scrolled": true
   },
   "outputs": [
    {
     "data": {
      "text/html": [
       "<div>\n",
       "<table border=\"1\" class=\"dataframe\">\n",
       "  <thead>\n",
       "    <tr style=\"text-align: right;\">\n",
       "      <th></th>\n",
       "      <th>PC1</th>\n",
       "      <th>PC2</th>\n",
       "      <th>PC3</th>\n",
       "      <th>PC4</th>\n",
       "      <th>PC5</th>\n",
       "      <th>PC6</th>\n",
       "      <th>PC7</th>\n",
       "      <th>PC8</th>\n",
       "      <th>PC9</th>\n",
       "      <th>PC10</th>\n",
       "      <th>PC11</th>\n",
       "    </tr>\n",
       "    <tr>\n",
       "      <th>diagnosis</th>\n",
       "      <th></th>\n",
       "      <th></th>\n",
       "      <th></th>\n",
       "      <th></th>\n",
       "      <th></th>\n",
       "      <th></th>\n",
       "      <th></th>\n",
       "      <th></th>\n",
       "      <th></th>\n",
       "      <th></th>\n",
       "      <th></th>\n",
       "    </tr>\n",
       "  </thead>\n",
       "  <tbody>\n",
       "    <tr>\n",
       "      <th>M</th>\n",
       "      <td>8.066802</td>\n",
       "      <td>0.414765</td>\n",
       "      <td>-2.538073</td>\n",
       "      <td>-2.608014</td>\n",
       "      <td>-1.344494</td>\n",
       "      <td>1.435172</td>\n",
       "      <td>-1.713811</td>\n",
       "      <td>-0.491329</td>\n",
       "      <td>0.655096</td>\n",
       "      <td>0.544224</td>\n",
       "      <td>0.718321</td>\n",
       "    </tr>\n",
       "    <tr>\n",
       "      <th>M</th>\n",
       "      <td>0.106798</td>\n",
       "      <td>-2.761727</td>\n",
       "      <td>-0.141345</td>\n",
       "      <td>-1.395074</td>\n",
       "      <td>0.130814</td>\n",
       "      <td>0.017362</td>\n",
       "      <td>-0.333451</td>\n",
       "      <td>-0.389474</td>\n",
       "      <td>-0.706687</td>\n",
       "      <td>0.114084</td>\n",
       "      <td>0.405121</td>\n",
       "    </tr>\n",
       "    <tr>\n",
       "      <th>M</th>\n",
       "      <td>4.386099</td>\n",
       "      <td>-1.969883</td>\n",
       "      <td>-0.226679</td>\n",
       "      <td>-1.108399</td>\n",
       "      <td>-0.700594</td>\n",
       "      <td>0.477506</td>\n",
       "      <td>0.287285</td>\n",
       "      <td>-0.079434</td>\n",
       "      <td>-0.352640</td>\n",
       "      <td>-0.654396</td>\n",
       "      <td>-0.284427</td>\n",
       "    </tr>\n",
       "  </tbody>\n",
       "</table>\n",
       "</div>"
      ],
      "text/plain": [
       "                PC1       PC2       PC3       PC4       PC5       PC6  \\\n",
       "diagnosis                                                               \n",
       "M          8.066802  0.414765 -2.538073 -2.608014 -1.344494  1.435172   \n",
       "M          0.106798 -2.761727 -0.141345 -1.395074  0.130814  0.017362   \n",
       "M          4.386099 -1.969883 -0.226679 -1.108399 -0.700594  0.477506   \n",
       "\n",
       "                PC7       PC8       PC9      PC10      PC11  \n",
       "diagnosis                                                    \n",
       "M         -1.713811 -0.491329  0.655096  0.544224  0.718321  \n",
       "M         -0.333451 -0.389474 -0.706687  0.114084  0.405121  \n",
       "M          0.287285 -0.079434 -0.352640 -0.654396 -0.284427  "
      ]
     },
     "execution_count": 201,
     "metadata": {},
     "output_type": "execute_result"
    }
   ],
   "source": [
    "import pandas as pd\n",
    "n=['PC1','PC2','PC3','PC4','PC5','PC6','PC7','PC8','PC9','PC10','PC11']\n",
    "xx_pca=pd.DataFrame(x_pca,columns = n, index=bc.diagnosis)\n",
    "xx_pca.head(3)"
   ]
  },
  {
   "cell_type": "code",
   "execution_count": 202,
   "metadata": {
    "collapsed": false,
    "scrolled": true
   },
   "outputs": [
    {
     "data": {
      "image/png": "[encoded data removed]",
      "text/plain": [
       "<matplotlib.figure.Figure at 0xb21c950>"
      ]
     },
     "metadata": {},
     "output_type": "display_data"
    }
   ],
   "source": [
    "#plotting the first 2 pca compenents vs diagnosis\n",
    "%matplotlib inline\n",
    "ax = xx_pca.plot(kind='scatter', x='PC1', y='PC2', figsize=(16,8))\n",
    "for i, diagnosis in enumerate(xx_pca.index):\n",
    "    ax.annotate(diagnosis,(xx_pca.iloc[i].PC1, xx_pca.iloc[i].PC2))\n"
   ]
  },
  {
   "cell_type": "markdown",
   "metadata": {},
   "source": [
    "**Summary:**\n",
    "\n",
    "* PCA resulted clear regions of benine and malignant cases (as the above plot shows). This helps the modeling/prediction be more effective and accurate.\n",
    "* After this, a model can be fitted on this data."
   ]
  }
 ],
 "metadata": {
  "kernelspec": {
   "display_name": "Python 3",
   "language": "python",
   "name": "python3"
  },
  "language_info": {
   "codemirror_mode": {
    "name": "ipython",
    "version": 3
   },
   "file_extension": ".py",
   "mimetype": "text/x-python",
   "name": "python",
   "nbconvert_exporter": "python",
   "pygments_lexer": "ipython3",
   "version": "3.6.0"
  }
 },
 "nbformat": 4,
 "nbformat_minor": 2
}
